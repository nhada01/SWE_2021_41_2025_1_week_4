{
  "nbformat": 4,
  "nbformat_minor": 0,
  "metadata": {
    "colab": {
      "provenance": [],
      "gpuType": "T4"
    },
    "kernelspec": {
      "name": "python3",
      "display_name": "Python 3"
    },
    "language_info": {
      "name": "python"
    },
    "accelerator": "GPU"
  },
  "cells": [
    {
      "cell_type": "code",
      "execution_count": 19,
      "metadata": {
        "colab": {
          "base_uri": "https://localhost:8080/"
        },
        "id": "VitPl_ets4au",
        "outputId": "d3652bd3-51dd-4c24-93c1-7f3be914452a"
      },
      "outputs": [
        {
          "output_type": "stream",
          "name": "stdout",
          "text": [
            "Input: 9\n",
            "False\n"
          ]
        }
      ],
      "source": [
        "def isHappy(n):\n",
        "    seen = set()  # 숫자가 반복되지 않도록 기록할 set\n",
        "\n",
        "    while n != 1:\n",
        "        if n in seen:\n",
        "            return False\n",
        "        seen.add(n)  # 현재 숫자 set에 추가\n",
        "\n",
        "        # n의 각 자릿수 제곱의 합 계산\n",
        "        total_sum = 0\n",
        "        while n > 0:\n",
        "            digit = n % 10\n",
        "            total_sum += digit**2\n",
        "            n //= 10\n",
        "        n = total_sum\n",
        "\n",
        "    return True\n",
        "\n",
        "\n",
        "n = int(input(\"Input: \"))\n",
        "print(isHappy(n))"
      ]
    }
  ]
}